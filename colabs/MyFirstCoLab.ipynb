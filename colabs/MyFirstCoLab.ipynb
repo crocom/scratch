{
  "nbformat": 4,
  "nbformat_minor": 0,
  "metadata": {
    "colab": {
      "name": "MyFirstCoLab.ipynb",
      "provenance": [],
      "authorship_tag": "ABX9TyMgVe8wMyNjAm1gH8qru7hx",
      "include_colab_link": true
    },
    "kernelspec": {
      "name": "python3",
      "display_name": "Python 3"
    },
    "language_info": {
      "name": "python"
    }
  },
  "cells": [
    {
      "cell_type": "markdown",
      "metadata": {
        "id": "view-in-github",
        "colab_type": "text"
      },
      "source": [
        "<a href=\"https://colab.research.google.com/github/crocom/scratch/blob/main/colabs/MyFirstCoLab.ipynb\" target=\"_parent\"><img src=\"https://colab.research.google.com/assets/colab-badge.svg\" alt=\"Open In Colab\"/></a>"
      ]
    },
    {
      "cell_type": "markdown",
      "metadata": {
        "id": "sALhOSpaEcap"
      },
      "source": [
        "# My First Colab"
      ]
    },
    {
      "cell_type": "code",
      "metadata": {
        "colab": {
          "base_uri": "https://localhost:8080/"
        },
        "id": "-qAQ-o3zEhqc",
        "outputId": "141fefb9-b822-4f13-baa1-21df483777bc"
      },
      "source": [
        "x = 4\n",
        "y = 12\n",
        "print(x, y)"
      ],
      "execution_count": 1,
      "outputs": [
        {
          "output_type": "stream",
          "name": "stdout",
          "text": [
            "4 12\n"
          ]
        }
      ]
    }
  ]
}